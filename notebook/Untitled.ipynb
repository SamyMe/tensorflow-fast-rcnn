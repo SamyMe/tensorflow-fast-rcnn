{
 "cells": [
  {
   "cell_type": "code",
   "execution_count": null,
   "metadata": {
    "collapsed": true
   },
   "outputs": [],
   "source": []
  },
  {
   "cell_type": "code",
   "execution_count": 1,
   "metadata": {
    "collapsed": true
   },
   "outputs": [],
   "source": [
    "import numpy as np\n",
    "import matplotlib.pyplot as plt\n",
    "%matplotlib inline\n",
    "\n",
    "import PIL\n",
    "from PIL import Image\n",
    "\n",
    "import tensorflow as tf\n",
    "from tensorflow.python.ops import array_ops\n",
    "from tensorflow.python.framework import ops\n",
    "\n",
    "import os\n",
    "home = os.getenv(\"HOME\")\n",
    "\n",
    "%matplotlib inline"
   ]
  },
  {
   "cell_type": "code",
   "execution_count": 5,
   "metadata": {},
   "outputs": [
    {
     "ename": "NotFoundError",
     "evalue": "../lib/layers/roi_pooling_op_grad.so: undefined symbol: _ZN10tensorflow8internal21CheckOpMessageBuilder9NewStringEv",
     "output_type": "error",
     "traceback": [
      "\u001b[0;31m---------------------------------------------------------------------------\u001b[0m",
      "\u001b[0;31mNotFoundError\u001b[0m                             Traceback (most recent call last)",
      "\u001b[0;32m<ipython-input-5-3fe84097a4c4>\u001b[0m in \u001b[0;36m<module>\u001b[0;34m()\u001b[0m\n\u001b[1;32m      9\u001b[0m \u001b[0;31m# Import the gradient op\u001b[0m\u001b[0;34m\u001b[0m\u001b[0;34m\u001b[0m\u001b[0m\n\u001b[1;32m     10\u001b[0m roi_pooling_module_grad = tf.load_op_library(\n\u001b[0;32m---> 11\u001b[0;31m     \"../lib/layers/roi_pooling_op_grad.so\")\n\u001b[0m\u001b[1;32m     12\u001b[0m \u001b[0mroi_pooling_op_grad\u001b[0m \u001b[0;34m=\u001b[0m \u001b[0mroi_pooling_module_grad\u001b[0m\u001b[0;34m.\u001b[0m\u001b[0mroi_pooling_grad\u001b[0m\u001b[0;34m\u001b[0m\u001b[0m\n",
      "\u001b[0;32m/home/niki/.pyenv/versions/2.7/envs/tensorflow_r.1.1/lib/python2.7/site-packages/tensorflow/python/framework/load_library.pyc\u001b[0m in \u001b[0;36mload_op_library\u001b[0;34m(library_filename)\u001b[0m\n\u001b[1;32m     62\u001b[0m       \u001b[0;31m# pylint: disable=protected-access\u001b[0m\u001b[0;34m\u001b[0m\u001b[0;34m\u001b[0m\u001b[0m\n\u001b[1;32m     63\u001b[0m       raise errors_impl._make_specific_exception(\n\u001b[0;32m---> 64\u001b[0;31m           None, None, error_msg, error_code)\n\u001b[0m\u001b[1;32m     65\u001b[0m       \u001b[0;31m# pylint: enable=protected-access\u001b[0m\u001b[0;34m\u001b[0m\u001b[0;34m\u001b[0m\u001b[0m\n\u001b[1;32m     66\u001b[0m   \u001b[0;32mfinally\u001b[0m\u001b[0;34m:\u001b[0m\u001b[0;34m\u001b[0m\u001b[0m\n",
      "\u001b[0;31mNotFoundError\u001b[0m: ../lib/layers/roi_pooling_op_grad.so: undefined symbol: _ZN10tensorflow8internal21CheckOpMessageBuilder9NewStringEv"
     ]
    }
   ],
   "source": [
    "# Since we've added custom operations, we need to import them. Tensorflow does not automatically add custom ops.\n",
    "# Adjust the paths below to your tensorflow source folder.\n",
    "\n",
    "# Import the forward op\n",
    "#roi_pooling_module = tf.load_op_library(\n",
    "#    \"../lib/layers/roi_pooling.so\")\n",
    "#roi_pooling_op = roi_pooling_module.roi_pooling\n",
    "\n",
    "# Import the gradient op\n",
    "roi_pooling_module_grad = tf.load_op_library(\n",
    "    \"../lib/layers/roi_pooling_op_grad.so\")\n",
    "roi_pooling_op_grad = roi_pooling_module_grad.roi_pooling_grad"
   ]
  },
  {
   "cell_type": "code",
   "execution_count": null,
   "metadata": {
    "collapsed": true
   },
   "outputs": [],
   "source": []
  },
  {
   "cell_type": "code",
   "execution_count": null,
   "metadata": {
    "collapsed": true
   },
   "outputs": [],
   "source": []
  },
  {
   "cell_type": "code",
   "execution_count": null,
   "metadata": {
    "collapsed": true
   },
   "outputs": [],
   "source": []
  }
 ],
 "metadata": {
  "kernelspec": {
   "display_name": "Python 2",
   "language": "python",
   "name": "python2"
  },
  "language_info": {
   "codemirror_mode": {
    "name": "ipython",
    "version": 2
   },
   "file_extension": ".py",
   "mimetype": "text/x-python",
   "name": "python",
   "nbconvert_exporter": "python",
   "pygments_lexer": "ipython2",
   "version": "2.7"
  }
 },
 "nbformat": 4,
 "nbformat_minor": 2
}
